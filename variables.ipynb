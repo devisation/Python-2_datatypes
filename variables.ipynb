{
 "cells": [
  {
   "cell_type": "markdown",
   "metadata": {},
   "source": [
    "1"
   ]
  },
  {
   "cell_type": "code",
   "execution_count": 1,
   "metadata": {},
   "outputs": [
    {
     "name": "stdout",
     "output_type": "stream",
     "text": [
      "variable x:\n",
      "\tvalue: 1\n",
      "\tdtype: <class 'int'>\n",
      "variable y:\n",
      "\tvalue: 1\n",
      "\tdtype: <class 'str'>\n",
      "\n",
      "x == y is False\n",
      "type(x) == type(y) is False\n"
     ]
    }
   ],
   "source": [
    "x = 1\n",
    "y = '1'\n",
    "varnames = ['x', 'y']\n",
    "\n",
    "for i,var in enumerate([x, y]):\n",
    "    print(\"variable \" + varnames[i] + \":\")\n",
    "    print(\"\\tvalue:\", var)\n",
    "    print(\"\\tdtype:\", type(var))\n",
    "\n",
    "print(\"\\nx == y is\", x==y)\n",
    "print(\"type(x) == type(y) is\", type(x)==type(y))"
   ]
  },
  {
   "cell_type": "markdown",
   "metadata": {},
   "source": [
    "2"
   ]
  },
  {
   "cell_type": "code",
   "execution_count": 2,
   "metadata": {},
   "outputs": [
    {
     "name": "stdout",
     "output_type": "stream",
     "text": [
      "\n",
      "Now, using y = int(y):\n",
      "x == y is True\n",
      "type(x) == type(y) is True\n"
     ]
    }
   ],
   "source": [
    "print(\"Now, using y = int(y):\")\n",
    "y = int(y)\n",
    "print(\"x == y is\", x==y)\n",
    "print(\"type(x) == type(y) is\", type(x)==type(y))"
   ]
  }
 ],
 "metadata": {
  "interpreter": {
   "hash": "cb5c51ffbde4b406b5812f9152883acb04e7d06eef1372a08c30c5ae3e346057"
  },
  "kernelspec": {
   "display_name": "Python 3.10.4 ('test')",
   "language": "python",
   "name": "python3"
  },
  "language_info": {
   "codemirror_mode": {
    "name": "ipython",
    "version": 3
   },
   "file_extension": ".py",
   "mimetype": "text/x-python",
   "name": "python",
   "nbconvert_exporter": "python",
   "pygments_lexer": "ipython3",
   "version": "3.10.4"
  },
  "orig_nbformat": 4
 },
 "nbformat": 4,
 "nbformat_minor": 2
}
