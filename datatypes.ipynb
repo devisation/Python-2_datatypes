{
 "cells": [
  {
   "cell_type": "markdown",
   "metadata": {},
   "source": [
    "1"
   ]
  },
  {
   "cell_type": "code",
   "execution_count": 5,
   "metadata": {},
   "outputs": [
    {
     "name": "stdout",
     "output_type": "stream",
     "text": [
      "Starting with $1000.0,\n",
      "Growing 12.0% per day on average,\n",
      "One would have $2210.68 after 7 days,\n",
      "Implying a final growth rate of 121.07% per week\n"
     ]
    }
   ],
   "source": [
    "capital_initial_USD = 1000.\n",
    "average_daily_return = .12\n",
    "time_horizon_days = 7\n",
    "capital = capital_initial_USD\n",
    "for i in range(time_horizon_days):\n",
    "    capital *= (1. + average_daily_return)\n",
    "capital_final = capital\n",
    "\n",
    "final_growth_rate = (capital_final - capital_initial_USD) / capital_initial_USD\n",
    "\n",
    "print(\"Starting with \" + \"$\" + str(capital_initial_USD) + \",\")\n",
    "print(f'Growing {average_daily_return * 100}% per day on average,')\n",
    "print(f'One would have ${capital_final:.2f} after {time_horizon_days} days,')\n",
    "print(f'Implying a final growth rate of {final_growth_rate * 100:.2f}% per week')"
   ]
  },
  {
   "cell_type": "markdown",
   "metadata": {},
   "source": [
    "2"
   ]
  },
  {
   "cell_type": "code",
   "execution_count": 6,
   "metadata": {},
   "outputs": [
    {
     "name": "stdout",
     "output_type": "stream",
     "text": [
      "\n",
      "When we buy bitcoin with 1000.0 USD at the beginning of the week,\n",
      " we would earn 2210.68 USD at the end of the week, with an average gain of 12.0%.\n",
      "\n"
     ]
    }
   ],
   "source": [
    "return_percent = average_daily_return * 100\n",
    "capital_final_USD = round(capital_final,2)\n",
    "output_str = \"\"\"\n",
    "When we buy bitcoin with {} USD at the beginning of the week,\\n we would earn {} USD at the end of the week, with an average gain of {}%.\n",
    "\"\"\".format(capital_initial_USD, capital_final_USD, return_percent)\n",
    "print(output_str)"
   ]
  },
  {
   "cell_type": "markdown",
   "metadata": {},
   "source": [
    "3"
   ]
  },
  {
   "cell_type": "code",
   "execution_count": 7,
   "metadata": {},
   "outputs": [
    {
     "name": "stdout",
     "output_type": "stream",
     "text": [
      "Temperature (C) : -11.11\n"
     ]
    }
   ],
   "source": [
    "temp_F = input(\"Enter the temperature in Fahrenheit\")\n",
    "temp_C = (float(temp_F) - 32.) * (5/9)\n",
    "print(\"Temperature (C) :\", round(temp_C, 2))"
   ]
  },
  {
   "cell_type": "markdown",
   "metadata": {},
   "source": [
    "4"
   ]
  },
  {
   "cell_type": "code",
   "execution_count": 8,
   "metadata": {},
   "outputs": [
    {
     "name": "stdout",
     "output_type": "stream",
     "text": [
      "You entered the number 222\n",
      "The sum of digits in the number is 6\n"
     ]
    }
   ],
   "source": [
    "num = input(\"Enter an integer between 100 and 999\")\n",
    "num_digitsum = sum([int(digit) for digit in num])\n",
    "print(\"You entered the number\", int(num))\n",
    "print(\"The sum of digits in the number is\", num_digitsum)"
   ]
  },
  {
   "cell_type": "markdown",
   "metadata": {},
   "source": [
    "5"
   ]
  },
  {
   "cell_type": "code",
   "execution_count": 9,
   "metadata": {},
   "outputs": [
    {
     "name": "stdout",
     "output_type": "stream",
     "text": [
      "The length of the hypotenuse is 6.32\n"
     ]
    }
   ],
   "source": [
    "width = float(input(\"Enter the triangle's horizontal side length\"))\n",
    "height = float(input(\"Enter the triangle's vertical side length\"))\n",
    "diag_length = ((width ** 2) + (height ** 2)) ** 0.5\n",
    "print(\"The length of the hypotenuse is\", round(diag_length,2))"
   ]
  }
 ],
 "metadata": {
  "interpreter": {
   "hash": "cb5c51ffbde4b406b5812f9152883acb04e7d06eef1372a08c30c5ae3e346057"
  },
  "kernelspec": {
   "display_name": "Python 3.10.4 ('test')",
   "language": "python",
   "name": "python3"
  },
  "language_info": {
   "codemirror_mode": {
    "name": "ipython",
    "version": 3
   },
   "file_extension": ".py",
   "mimetype": "text/x-python",
   "name": "python",
   "nbconvert_exporter": "python",
   "pygments_lexer": "ipython3",
   "version": "3.10.4"
  },
  "orig_nbformat": 4
 },
 "nbformat": 4,
 "nbformat_minor": 2
}
