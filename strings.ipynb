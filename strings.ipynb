{
 "cells": [
  {
   "cell_type": "markdown",
   "metadata": {},
   "source": [
    "1"
   ]
  },
  {
   "cell_type": "code",
   "execution_count": null,
   "metadata": {},
   "outputs": [],
   "source": [
    "first_name = input(\"Enter your first name:\").capitalize()\n",
    "surname = input(\"Enter your surname/last name:\").capitalize()\n",
    "name_of_user = f'{first_name} {surname}'\n",
    "print(\"Hello \" + name_of_user + \"!\")"
   ]
  },
  {
   "cell_type": "markdown",
   "metadata": {},
   "source": [
    "2"
   ]
  },
  {
   "cell_type": "code",
   "execution_count": null,
   "metadata": {},
   "outputs": [],
   "source": [
    "poem_raven_lines = [\n",
    "    \"Deep into that darkness peering,\",\n",
    "    \"Long I stood there, wondering, fearing,\",\n",
    "    \"Doubting, dreaming dreams no mortals\",\n",
    "    \"Ever dared to dream before;\",\n",
    "    \"But the silence was unbroken,\",\n",
    "    \"And the stillness gave no token,\",\n",
    "    \"And the only word there spoken\",\n",
    "    'Was the whispered word, \"Lenore!\"',\n",
    "    \"This I whispered, and an echo\",\n",
    "    'Murmured back the word, \"Lenore!\"', \n",
    "    \"Merely this, and nothing more.\"\n",
    "    ]\n",
    "\n",
    "poem_lineone = input(\"Type in the first line of Raven by Edgar Allen Poe:\")\n",
    "print(\"The length of the line you just entered is\", len(poem_lineone))\n",
    "print(\"-\" * 25)\n",
    "\n",
    "startline_num = input(\"Enter first line number (1-10) to quote from Raven:\")\n",
    "endline_num = input(\"Enter the last line number (2-11) to quote from Raven:\")\n",
    "print('\\n')\n",
    "for line in poem_raven_lines[int(startline_num)-1:int(endline_num)]:\n",
    "    print(line)"
   ]
  },
  {
   "cell_type": "markdown",
   "metadata": {},
   "source": [
    "3"
   ]
  },
  {
   "cell_type": "code",
   "execution_count": null,
   "metadata": {},
   "outputs": [],
   "source": [
    "str1 = \"a string\"\n",
    "str2 = \" a string \"\n",
    "print(\"Notice that \\n\" + f'\"{str1}\"==\"{str2}\"' + \" is\", str1==str2)\n",
    "print(f'However, applying the .strip() method to \"{str2}\" we get')\n",
    "print(f'\"{str1}\"==\"{str2.strip()}\"' + \" is\", str1==str2.strip())\n",
    "print(\"Thus, leading and trailing whitespace (and other extra characters) can lead to improper processing of text by Python.\")"
   ]
  }
 ],
 "metadata": {
  "language_info": {
   "name": "python"
  },
  "orig_nbformat": 4
 },
 "nbformat": 4,
 "nbformat_minor": 2
}
