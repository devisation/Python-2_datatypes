{
 "cells": [
  {
   "cell_type": "markdown",
   "metadata": {},
   "source": [
    "1"
   ]
  },
  {
   "cell_type": "code",
   "execution_count": 1,
   "metadata": {},
   "outputs": [
    {
     "name": "stdout",
     "output_type": "stream",
     "text": [
      "Jared Sutton\n"
     ]
    }
   ],
   "source": [
    "myname = \"Jared\"\n",
    "mysurname = \"Sutton\"\n",
    "print(myname, mysurname)"
   ]
  },
  {
   "cell_type": "markdown",
   "metadata": {},
   "source": [
    "2"
   ]
  },
  {
   "cell_type": "code",
   "execution_count": 2,
   "metadata": {},
   "outputs": [
    {
     "name": "stdout",
     "output_type": "stream",
     "text": [
      "Jared \n",
      "Sutton\n"
     ]
    }
   ],
   "source": [
    "print(myname,'\\n' + mysurname)"
   ]
  },
  {
   "cell_type": "markdown",
   "metadata": {},
   "source": [
    "3"
   ]
  },
  {
   "cell_type": "code",
   "execution_count": 3,
   "metadata": {},
   "outputs": [
    {
     "name": "stdout",
     "output_type": "stream",
     "text": [
      "`I don't want to be an \"artist\". I want to be a \"Data Scientist.\"`\n"
     ]
    }
   ],
   "source": [
    "print(\"\"\"`I don't want to be an \"artist\". I want to be a \"Data Scientist.\"`\"\"\")"
   ]
  }
 ],
 "metadata": {
  "interpreter": {
   "hash": "cb5c51ffbde4b406b5812f9152883acb04e7d06eef1372a08c30c5ae3e346057"
  },
  "kernelspec": {
   "display_name": "Python 3.10.4 ('test')",
   "language": "python",
   "name": "python3"
  },
  "language_info": {
   "codemirror_mode": {
    "name": "ipython",
    "version": 3
   },
   "file_extension": ".py",
   "mimetype": "text/x-python",
   "name": "python",
   "nbconvert_exporter": "python",
   "pygments_lexer": "ipython3",
   "version": "3.10.4"
  },
  "orig_nbformat": 4
 },
 "nbformat": 4,
 "nbformat_minor": 2
}
